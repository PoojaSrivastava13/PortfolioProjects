{
 "cells": [
  {
   "cell_type": "code",
   "execution_count": 3,
   "id": "00e1dd99",
   "metadata": {},
   "outputs": [],
   "source": [
    "from bs4 import BeautifulSoup\n",
    "import requests\n",
    "import time\n",
    "import datetime\n",
    "import smtplib\n",
    "import csv\n",
    "import pandas as pd"
   ]
  },
  {
   "cell_type": "code",
   "execution_count": 4,
   "id": "3916fee9",
   "metadata": {},
   "outputs": [],
   "source": [
    "URL='https://www.flipkart.com/become-python-data-analyst/p/itm332637ba79077?pid=9781789531701&lid=LSTBOK97817895317014BLMEQ&marketplace=FLIPKART&q=data+analyst&store=bks&srno=s_1_1&otracker=search&otracker1=search&fm=organic&iid=b67ffeb9-239f-4fe0-8d8e-7101560d066d.9781789531701.SEARCH&ppt=pp&ppn=pp&ssid=tv2dj381ao0000001701928818379&qH=4e7388f9ea53d0b1'\n",
    "\n",
    "headers={\"User-Agent\": \"Mozilla/5.0 (Macintosh; Intel Mac OS X 10_15_7) AppleWebKit/537.36 (KHTML, like Gecko) Chrome/119.0.0.0 Safari/537.36\",\"Accept-Encoding\":\"gzip, deflate\", \"Accept\":\"text/html,application/xhtml+xml,application/xml;q=0.9,*/*;q=0.8\", \"DNT\":\"1\",\"Connection\":\"close\", \"Upgrade-Insecure-Requests\":\"1\"}\n",
    "page=requests.get(URL, headers=headers)        #get User-Agent for headers from https://httpbin.org/get on your computer\n",
    "\n",
    "soup1=BeautifulSoup(page.text, 'html.parser')\n",
    "soup2=BeautifulSoup(soup1.prettify(), 'html.parser')\n",
    "            "
   ]
  },
  {
   "cell_type": "code",
   "execution_count": 58,
   "id": "ec80a6a3",
   "metadata": {},
   "outputs": [
    {
     "name": "stdout",
     "output_type": "stream",
     "text": [
      "Become a Python Data Analyst  (English, Paperback, Fuentes Alvaro)\n",
      "1,614\n"
     ]
    }
   ],
   "source": [
    "title=soup1.find('span',class_='B_NuCI').text\n",
    "price=soup1.find('div',class_=\"_30jeq3 _16Jk6d\").text\n",
    "price1=price.strip()[1:]\n",
    "print(title)\n",
    "print(price1)\n",
    "type(price1)"
   ]
  },
  {
   "cell_type": "code",
   "execution_count": 95,
   "id": "8183ac03",
   "metadata": {},
   "outputs": [],
   "source": [
    "header=['Title','Price','Date']\n",
    "today1=pd.to_datetime('now')   #today's Date\n",
    "data=[title,price1,today]     #convert data type from 'str' to 'list'\n",
    "\n",
    "\n",
    "with open('FlipkartScrapperDataSet.csv','w',newline='',encoding='UTF8') as file:   #Create a new csv and write data into it\n",
    "    writer=csv.writer(file)\n",
    "    writer.writerow(header)\n",
    "    writer.writerow(data)\n",
    "\n"
   ]
  },
  {
   "cell_type": "code",
   "execution_count": 92,
   "id": "7ec59854",
   "metadata": {},
   "outputs": [
    {
     "name": "stdout",
     "output_type": "stream",
     "text": [
      "2023-12-08\n",
      "2023-12-08 12:08:14.159696\n"
     ]
    }
   ],
   "source": [
    "today2=datetime.date.today()\n",
    "print(today2)\n",
    "today1=pd.to_datetime('now')\n",
    "print(today1)"
   ]
  },
  {
   "cell_type": "code",
   "execution_count": 97,
   "id": "eb7e592c",
   "metadata": {},
   "outputs": [
    {
     "data": {
      "text/html": [
       "<div>\n",
       "<style scoped>\n",
       "    .dataframe tbody tr th:only-of-type {\n",
       "        vertical-align: middle;\n",
       "    }\n",
       "\n",
       "    .dataframe tbody tr th {\n",
       "        vertical-align: top;\n",
       "    }\n",
       "\n",
       "    .dataframe thead th {\n",
       "        text-align: right;\n",
       "    }\n",
       "</style>\n",
       "<table border=\"1\" class=\"dataframe\">\n",
       "  <thead>\n",
       "    <tr style=\"text-align: right;\">\n",
       "      <th></th>\n",
       "      <th>Title</th>\n",
       "      <th>Price</th>\n",
       "      <th>Date</th>\n",
       "    </tr>\n",
       "  </thead>\n",
       "  <tbody>\n",
       "    <tr>\n",
       "      <th>0</th>\n",
       "      <td>Become a Python Data Analyst  (English, Paperb...</td>\n",
       "      <td>1,614</td>\n",
       "      <td>2023-12-07</td>\n",
       "    </tr>\n",
       "    <tr>\n",
       "      <th>1</th>\n",
       "      <td>Become a Python Data Analyst  (English, Paperb...</td>\n",
       "      <td>1,614</td>\n",
       "      <td>2023-12-08</td>\n",
       "    </tr>\n",
       "    <tr>\n",
       "      <th>2</th>\n",
       "      <td>Become a Python Data Analyst  (English, Paperb...</td>\n",
       "      <td>1,614</td>\n",
       "      <td>2023-12-08</td>\n",
       "    </tr>\n",
       "    <tr>\n",
       "      <th>3</th>\n",
       "      <td>Become a Python Data Analyst  (English, Paperb...</td>\n",
       "      <td>1,614</td>\n",
       "      <td>2023-12-08</td>\n",
       "    </tr>\n",
       "    <tr>\n",
       "      <th>4</th>\n",
       "      <td>Become a Python Data Analyst  (English, Paperb...</td>\n",
       "      <td>1,614</td>\n",
       "      <td>2023-12-08</td>\n",
       "    </tr>\n",
       "    <tr>\n",
       "      <th>5</th>\n",
       "      <td>Become a Python Data Analyst  (English, Paperb...</td>\n",
       "      <td>1,614</td>\n",
       "      <td>2023-12-08</td>\n",
       "    </tr>\n",
       "    <tr>\n",
       "      <th>6</th>\n",
       "      <td>Become a Python Data Analyst  (English, Paperb...</td>\n",
       "      <td>1,614</td>\n",
       "      <td>2023-12-08</td>\n",
       "    </tr>\n",
       "  </tbody>\n",
       "</table>\n",
       "</div>"
      ],
      "text/plain": [
       "                                               Title  Price        Date\n",
       "0  Become a Python Data Analyst  (English, Paperb...  1,614  2023-12-07\n",
       "1  Become a Python Data Analyst  (English, Paperb...  1,614  2023-12-08\n",
       "2  Become a Python Data Analyst  (English, Paperb...  1,614  2023-12-08\n",
       "3  Become a Python Data Analyst  (English, Paperb...  1,614  2023-12-08\n",
       "4  Become a Python Data Analyst  (English, Paperb...  1,614  2023-12-08\n",
       "5  Become a Python Data Analyst  (English, Paperb...  1,614  2023-12-08\n",
       "6  Become a Python Data Analyst  (English, Paperb...  1,614  2023-12-08"
      ]
     },
     "execution_count": 97,
     "metadata": {},
     "output_type": "execute_result"
    }
   ],
   "source": [
    "df=pd.read_csv('/Users/praveenmadhogaria/FlipkartScrapperDataSet.csv')   \n",
    "df"
   ]
  },
  {
   "cell_type": "code",
   "execution_count": 76,
   "id": "c2fa42a7",
   "metadata": {},
   "outputs": [],
   "source": [
    "with open('FlipkartScrapperDataSet.csv','a+',newline='',encoding='UTF8') as file:   #append the cvs file created in line 74\n",
    "    writer=csv.writer(file)\n",
    "    writer.writerow(data)"
   ]
  },
  {
   "cell_type": "code",
   "execution_count": 78,
   "id": "a8776db9",
   "metadata": {},
   "outputs": [],
   "source": [
    "def price_check():     #creating a function\n",
    "    URL='https://www.flipkart.com/become-python-data-analyst/p/itm332637ba79077?pid=9781789531701&lid=LSTBOK97817895317014BLMEQ&marketplace=FLIPKART&q=data+analyst&store=bks&srno=s_1_1&otracker=search&otracker1=search&fm=organic&iid=b67ffeb9-239f-4fe0-8d8e-7101560d066d.9781789531701.SEARCH&ppt=pp&ppn=pp&ssid=tv2dj381ao0000001701928818379&qH=4e7388f9ea53d0b1'\n",
    "\n",
    "    headers={\"User-Agent\": \"Mozilla/5.0 (Macintosh; Intel Mac OS X 10_15_7) AppleWebKit/537.36 (KHTML, like Gecko) Chrome/119.0.0.0 Safari/537.36\",\"Accept-Encoding\":\"gzip, deflate\", \"Accept\":\"text/html,application/xhtml+xml,application/xml;q=0.9,*/*;q=0.8\", \"DNT\":\"1\",\"Connection\":\"close\", \"Upgrade-Insecure-Requests\":\"1\"}\n",
    "    page=requests.get(URL, headers=headers)\n",
    "\n",
    "    soup1=BeautifulSoup(page.text, 'html.parser')\n",
    "    soup2=BeautifulSoup(soup1.prettify(), 'html.parser')\n",
    "\n",
    "    title=soup1.find('span',class_='B_NuCI').text\n",
    "    price=soup1.find('div',class_=\"_30jeq3 _16Jk6d\").text\n",
    "    price1=price.strip()[1:]\n",
    "    \n",
    "    header=['Title','Price','Date']\n",
    "    today1=pd.to_datetime('now')\n",
    "    data=[title,price1,today]\n",
    "\n",
    "\n",
    "    with open('FlipkartScrapperDataSet.csv','a+',newline='',encoding='UTF8') as file:\n",
    "        writer=csv.writer(file)\n",
    "        writer.writerow(data)"
   ]
  },
  {
   "cell_type": "code",
   "execution_count": 96,
   "id": "a54ed779",
   "metadata": {},
   "outputs": [
    {
     "ename": "KeyboardInterrupt",
     "evalue": "",
     "output_type": "error",
     "traceback": [
      "\u001b[0;31m---------------------------------------------------------------------------\u001b[0m",
      "\u001b[0;31mKeyboardInterrupt\u001b[0m                         Traceback (most recent call last)",
      "Cell \u001b[0;32mIn[96], line 3\u001b[0m\n\u001b[1;32m      1\u001b[0m \u001b[38;5;28;01mwhile\u001b[39;00m(\u001b[38;5;28;01mTrue\u001b[39;00m):      \u001b[38;5;66;03m#running price_check module every x seconds\u001b[39;00m\n\u001b[1;32m      2\u001b[0m     price_check()\n\u001b[0;32m----> 3\u001b[0m     time\u001b[38;5;241m.\u001b[39msleep(\u001b[38;5;241m5\u001b[39m)\n",
      "\u001b[0;31mKeyboardInterrupt\u001b[0m: "
     ]
    }
   ],
   "source": [
    "while(True):      #running price_check module every x seconds\n",
    "    price_check()\n",
    "    time.sleep(5)"
   ]
  },
  {
   "cell_type": "code",
   "execution_count": 84,
   "id": "87bd9f0a",
   "metadata": {},
   "outputs": [],
   "source": [
    "# To be TESTED.\n",
    "\n",
    "# If you want to try sending yourself an email (just for fun) when a price hits below a certain level you can try it\n",
    "# out with this script\n",
    "\n",
    "def send_mail():\n",
    "    server = smtplib.SMTP_SSL('smtp.gmail.com',465)\n",
    "    server.ehlo()\n",
    "    #server.starttls()\n",
    "\n",
    "    server.login('pooja.srivastava13@gmail.com','xxxxxxxxxxxxxx')\n",
    "    \n",
    "    subject = \"Book price dropped!!!!\"\n",
    "    body = \"Hi Pooja, The price of the book that you have been willing to buy, has dropped. Buy it now. Link https://www.flipkart.com/become-python-data-analyst/p/itm332637ba79077?pid=9781789531701&lid=LSTBOK97817895317014BLMEQ&marketplace=FLIPKART&q=data+analyst&store=bks&srno=s_1_1&otracker=search&otracker1=search&fm=organic&iid=b67ffeb9-239f-4fe0-8d8e-7101560d066d.9781789531701.SEARCH&ppt=pp&ppn=pp&ssid=tv2dj381ao0000001701928818379&qH=4e7388f9ea53d0b1\"\n",
    "   \n",
    "    msg = f\"Subject: {subject}\\n\\n{body}\"\n",
    "    \n",
    "    server.sendmail(\n",
    "        'pooja.srivastava13@gmail.com',\n",
    "        msg\n",
    "     \n",
    "    )"
   ]
  }
 ],
 "metadata": {
  "kernelspec": {
   "display_name": "Python 3 (ipykernel)",
   "language": "python",
   "name": "python3"
  },
  "language_info": {
   "codemirror_mode": {
    "name": "ipython",
    "version": 3
   },
   "file_extension": ".py",
   "mimetype": "text/x-python",
   "name": "python",
   "nbconvert_exporter": "python",
   "pygments_lexer": "ipython3",
   "version": "3.11.5"
  }
 },
 "nbformat": 4,
 "nbformat_minor": 5
}
